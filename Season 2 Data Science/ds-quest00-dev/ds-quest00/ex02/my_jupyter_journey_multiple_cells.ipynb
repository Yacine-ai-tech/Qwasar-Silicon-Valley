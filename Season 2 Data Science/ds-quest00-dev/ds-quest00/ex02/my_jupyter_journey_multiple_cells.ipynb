{
 "cells": [
  {
   "cell_type": "code",
   "execution_count": 1,
   "id": "c8f35f44",
   "metadata": {},
   "outputs": [
    {
     "name": "stdout",
     "output_type": "stream",
     "text": [
      "Cell1\n"
     ]
    }
   ],
   "source": [
    "print(\"Cell1\")"
   ]
  },
  {
   "cell_type": "code",
   "execution_count": 2,
   "id": "e6e94745",
   "metadata": {},
   "outputs": [
    {
     "name": "stdout",
     "output_type": "stream",
     "text": [
      "Cell2\n"
     ]
    }
   ],
   "source": [
    "print(\"Cell2\")"
   ]
  },
  {
   "cell_type": "code",
   "execution_count": 3,
   "id": "167f0942",
   "metadata": {},
   "outputs": [
    {
     "name": "stdout",
     "output_type": "stream",
     "text": [
      "Cell3\n"
     ]
    }
   ],
   "source": [
    "print(\"Cell3\")"
   ]
  },
  {
   "cell_type": "code",
   "execution_count": null,
   "id": "744b1aa6",
   "metadata": {},
   "outputs": [],
   "source": []
  },
  {
   "cell_type": "code",
   "execution_count": null,
   "id": "bc7c1659",
   "metadata": {},
   "outputs": [],
   "source": []
  }
 ],
 "metadata": {
  "kernelspec": {
   "display_name": "Python 3",
   "language": "python",
   "name": "python3"
  },
  "language_info": {
   "codemirror_mode": {
    "name": "ipython",
    "version": 3
   },
   "file_extension": ".py",
   "mimetype": "text/x-python",
   "name": "python",
   "nbconvert_exporter": "python",
   "pygments_lexer": "ipython3",
   "version": "3.6.7"
  }
 },
 "nbformat": 4,
 "nbformat_minor": 5
}
